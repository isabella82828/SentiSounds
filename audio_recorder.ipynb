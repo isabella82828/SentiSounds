{
  "nbformat": 4,
  "nbformat_minor": 0,
  "metadata": {
    "colab": {
      "provenance": []
    },
    "kernelspec": {
      "name": "python3",
      "display_name": "Python 3"
    },
    "language_info": {
      "name": "python"
    }
  },
  "cells": [
    {
      "cell_type": "markdown",
      "source": [
        "# Audio Recorder"
      ],
      "metadata": {
        "id": "-DnxuaouFPPq"
      }
    },
    {
      "cell_type": "code",
      "execution_count": null,
      "metadata": {
        "id": "EgLjzOiWFFaC"
      },
      "outputs": [],
      "source": [
        "!pip install pyaudio"
      ]
    },
    {
      "cell_type": "code",
      "source": [
        "!pip install wave"
      ],
      "metadata": {
        "id": "9NwAeXnMFUAO"
      },
      "execution_count": null,
      "outputs": []
    },
    {
      "cell_type": "code",
      "source": [
        "import pyaudio\n",
        "import wave\n",
        "\n",
        "CHUNK = 1024\n",
        "FORMAT = pyaudio.paInt16 #paInt8\n",
        "CHANNELS = 2\n",
        "RATE = 44100 #sample rate\n",
        "RECORD_SECONDS = 4\n",
        "WAVE_OUTPUT_FILENAME = \"output10.wav\"\n",
        "\n",
        "p = pyaudio.PyAudio()\n",
        "\n",
        "stream = p.open(format=FORMAT,\n",
        "                channels=CHANNELS,\n",
        "                rate=RATE,\n",
        "                input=True,\n",
        "                frames_per_buffer=CHUNK) #buffer\n",
        "\n",
        "print(\"* recording\")\n",
        "\n",
        "frames = []\n",
        "\n",
        "for i in range(0, int(RATE / CHUNK * RECORD_SECONDS)):\n",
        "    data = stream.read(CHUNK)\n",
        "    frames.append(data) # 2 bytes(16 bits) per channel\n",
        "\n",
        "print(\"* done recording\")\n",
        "\n",
        "stream.stop_stream()\n",
        "stream.close()\n",
        "p.terminate()\n",
        "\n",
        "wf = wave.open(WAVE_OUTPUT_FILENAME, 'wb')\n",
        "wf.setnchannels(CHANNELS)\n",
        "wf.setsampwidth(p.get_sample_size(FORMAT))\n",
        "wf.setframerate(RATE)\n",
        "wf.writeframes(b''.join(frames))\n",
        "wf.close()"
      ],
      "metadata": {
        "id": "nH6-KkcHFVXu"
      },
      "execution_count": null,
      "outputs": []
    }
  ]
}